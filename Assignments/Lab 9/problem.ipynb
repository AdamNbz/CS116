{
 "cells": [
  {
   "cell_type": "markdown",
   "id": "d2ba3410-3c3c-4035-aaa2-377eceb8cd73",
   "metadata": {},
   "source": [
    "# CÁC PHƯƠNG PHÁP BOOSTING VÀ ENSEMBLE"
   ]
  },
  {
   "cell_type": "markdown",
   "id": "17cc787c-f855-4a30-8da3-a20696f5e731",
   "metadata": {},
   "source": [
    "Trong notebook này, chúng ta sẽ tìm hiểu về các phương pháp không nằm trong bộ sklearn mà thường được sử dụng để thi các cuộc thi trên Kaggle và đạt được độ chính xác cao. Cụ thể, chúng ta sẽ tập trung vào các thuật toán Gradient Boosting như ***XGBoost***, ***LightGBM*** và ***CatBoost***. Chúng ta cũng sẽ tìm hiểu về cách kết hợp chúng bằng kỹ thuật Ensemble để cải thiện hiệu suất dự đoán."
   ]
  },
  {
   "cell_type": "markdown",
   "id": "89bcf8f8-7989-4ea3-b79a-f59c5943f749",
   "metadata": {},
   "source": [
    "### 1. Tải dữ liệu"
   ]
  },
  {
   "cell_type": "markdown",
   "id": "1278a726-1832-48fe-8307-d9d1f6e7f73b",
   "metadata": {},
   "source": [
    "Trong bài này ta sẽ sữ dụng dữ liệu về ung thư vú được tải từ hàm `load_breast_cancer()` của module `sklearn.datasets`."
   ]
  },
  {
   "cell_type": "code",
   "execution_count": 2,
   "id": "15a5211a-ad1e-4f1b-a967-53dd2b991074",
   "metadata": {},
   "outputs": [],
   "source": [
    "from sklearn.datasets import load_breast_cancer\n",
    "import pandas as pd\n",
    "\n",
    "# Tải dữ liệu\n",
    "breast_cancer = load_breast_cancer()\n",
    "X = breast_cancer.data\n",
    "y = breast_cancer.target\n",
    "\n",
    "# Tạo dataframe từ dữ liệu để dễ dàng quan sát\n",
    "df = pd.DataFrame(data=X, columns=breast_cancer.feature_names)\n",
    "df[\"target\"] = y"
   ]
  },
  {
   "cell_type": "code",
   "execution_count": 3,
   "id": "9628c93b-b8a8-4c99-ab80-47faeb9db654",
   "metadata": {},
   "outputs": [
    {
     "data": {
      "text/html": [
       "<div>\n",
       "<style scoped>\n",
       "    .dataframe tbody tr th:only-of-type {\n",
       "        vertical-align: middle;\n",
       "    }\n",
       "\n",
       "    .dataframe tbody tr th {\n",
       "        vertical-align: top;\n",
       "    }\n",
       "\n",
       "    .dataframe thead th {\n",
       "        text-align: right;\n",
       "    }\n",
       "</style>\n",
       "<table border=\"1\" class=\"dataframe\">\n",
       "  <thead>\n",
       "    <tr style=\"text-align: right;\">\n",
       "      <th></th>\n",
       "      <th>mean radius</th>\n",
       "      <th>mean texture</th>\n",
       "      <th>mean perimeter</th>\n",
       "      <th>mean area</th>\n",
       "      <th>mean smoothness</th>\n",
       "      <th>mean compactness</th>\n",
       "      <th>mean concavity</th>\n",
       "      <th>mean concave points</th>\n",
       "      <th>mean symmetry</th>\n",
       "      <th>mean fractal dimension</th>\n",
       "      <th>...</th>\n",
       "      <th>worst texture</th>\n",
       "      <th>worst perimeter</th>\n",
       "      <th>worst area</th>\n",
       "      <th>worst smoothness</th>\n",
       "      <th>worst compactness</th>\n",
       "      <th>worst concavity</th>\n",
       "      <th>worst concave points</th>\n",
       "      <th>worst symmetry</th>\n",
       "      <th>worst fractal dimension</th>\n",
       "      <th>target</th>\n",
       "    </tr>\n",
       "  </thead>\n",
       "  <tbody>\n",
       "    <tr>\n",
       "      <th>0</th>\n",
       "      <td>17.99</td>\n",
       "      <td>10.38</td>\n",
       "      <td>122.80</td>\n",
       "      <td>1001.0</td>\n",
       "      <td>0.11840</td>\n",
       "      <td>0.27760</td>\n",
       "      <td>0.3001</td>\n",
       "      <td>0.14710</td>\n",
       "      <td>0.2419</td>\n",
       "      <td>0.07871</td>\n",
       "      <td>...</td>\n",
       "      <td>17.33</td>\n",
       "      <td>184.60</td>\n",
       "      <td>2019.0</td>\n",
       "      <td>0.1622</td>\n",
       "      <td>0.6656</td>\n",
       "      <td>0.7119</td>\n",
       "      <td>0.2654</td>\n",
       "      <td>0.4601</td>\n",
       "      <td>0.11890</td>\n",
       "      <td>0</td>\n",
       "    </tr>\n",
       "    <tr>\n",
       "      <th>1</th>\n",
       "      <td>20.57</td>\n",
       "      <td>17.77</td>\n",
       "      <td>132.90</td>\n",
       "      <td>1326.0</td>\n",
       "      <td>0.08474</td>\n",
       "      <td>0.07864</td>\n",
       "      <td>0.0869</td>\n",
       "      <td>0.07017</td>\n",
       "      <td>0.1812</td>\n",
       "      <td>0.05667</td>\n",
       "      <td>...</td>\n",
       "      <td>23.41</td>\n",
       "      <td>158.80</td>\n",
       "      <td>1956.0</td>\n",
       "      <td>0.1238</td>\n",
       "      <td>0.1866</td>\n",
       "      <td>0.2416</td>\n",
       "      <td>0.1860</td>\n",
       "      <td>0.2750</td>\n",
       "      <td>0.08902</td>\n",
       "      <td>0</td>\n",
       "    </tr>\n",
       "    <tr>\n",
       "      <th>2</th>\n",
       "      <td>19.69</td>\n",
       "      <td>21.25</td>\n",
       "      <td>130.00</td>\n",
       "      <td>1203.0</td>\n",
       "      <td>0.10960</td>\n",
       "      <td>0.15990</td>\n",
       "      <td>0.1974</td>\n",
       "      <td>0.12790</td>\n",
       "      <td>0.2069</td>\n",
       "      <td>0.05999</td>\n",
       "      <td>...</td>\n",
       "      <td>25.53</td>\n",
       "      <td>152.50</td>\n",
       "      <td>1709.0</td>\n",
       "      <td>0.1444</td>\n",
       "      <td>0.4245</td>\n",
       "      <td>0.4504</td>\n",
       "      <td>0.2430</td>\n",
       "      <td>0.3613</td>\n",
       "      <td>0.08758</td>\n",
       "      <td>0</td>\n",
       "    </tr>\n",
       "    <tr>\n",
       "      <th>3</th>\n",
       "      <td>11.42</td>\n",
       "      <td>20.38</td>\n",
       "      <td>77.58</td>\n",
       "      <td>386.1</td>\n",
       "      <td>0.14250</td>\n",
       "      <td>0.28390</td>\n",
       "      <td>0.2414</td>\n",
       "      <td>0.10520</td>\n",
       "      <td>0.2597</td>\n",
       "      <td>0.09744</td>\n",
       "      <td>...</td>\n",
       "      <td>26.50</td>\n",
       "      <td>98.87</td>\n",
       "      <td>567.7</td>\n",
       "      <td>0.2098</td>\n",
       "      <td>0.8663</td>\n",
       "      <td>0.6869</td>\n",
       "      <td>0.2575</td>\n",
       "      <td>0.6638</td>\n",
       "      <td>0.17300</td>\n",
       "      <td>0</td>\n",
       "    </tr>\n",
       "    <tr>\n",
       "      <th>4</th>\n",
       "      <td>20.29</td>\n",
       "      <td>14.34</td>\n",
       "      <td>135.10</td>\n",
       "      <td>1297.0</td>\n",
       "      <td>0.10030</td>\n",
       "      <td>0.13280</td>\n",
       "      <td>0.1980</td>\n",
       "      <td>0.10430</td>\n",
       "      <td>0.1809</td>\n",
       "      <td>0.05883</td>\n",
       "      <td>...</td>\n",
       "      <td>16.67</td>\n",
       "      <td>152.20</td>\n",
       "      <td>1575.0</td>\n",
       "      <td>0.1374</td>\n",
       "      <td>0.2050</td>\n",
       "      <td>0.4000</td>\n",
       "      <td>0.1625</td>\n",
       "      <td>0.2364</td>\n",
       "      <td>0.07678</td>\n",
       "      <td>0</td>\n",
       "    </tr>\n",
       "  </tbody>\n",
       "</table>\n",
       "<p>5 rows × 31 columns</p>\n",
       "</div>"
      ],
      "text/plain": [
       "   mean radius  mean texture  mean perimeter  mean area  mean smoothness  \\\n",
       "0        17.99         10.38          122.80     1001.0          0.11840   \n",
       "1        20.57         17.77          132.90     1326.0          0.08474   \n",
       "2        19.69         21.25          130.00     1203.0          0.10960   \n",
       "3        11.42         20.38           77.58      386.1          0.14250   \n",
       "4        20.29         14.34          135.10     1297.0          0.10030   \n",
       "\n",
       "   mean compactness  mean concavity  mean concave points  mean symmetry  \\\n",
       "0           0.27760          0.3001              0.14710         0.2419   \n",
       "1           0.07864          0.0869              0.07017         0.1812   \n",
       "2           0.15990          0.1974              0.12790         0.2069   \n",
       "3           0.28390          0.2414              0.10520         0.2597   \n",
       "4           0.13280          0.1980              0.10430         0.1809   \n",
       "\n",
       "   mean fractal dimension  ...  worst texture  worst perimeter  worst area  \\\n",
       "0                 0.07871  ...          17.33           184.60      2019.0   \n",
       "1                 0.05667  ...          23.41           158.80      1956.0   \n",
       "2                 0.05999  ...          25.53           152.50      1709.0   \n",
       "3                 0.09744  ...          26.50            98.87       567.7   \n",
       "4                 0.05883  ...          16.67           152.20      1575.0   \n",
       "\n",
       "   worst smoothness  worst compactness  worst concavity  worst concave points  \\\n",
       "0            0.1622             0.6656           0.7119                0.2654   \n",
       "1            0.1238             0.1866           0.2416                0.1860   \n",
       "2            0.1444             0.4245           0.4504                0.2430   \n",
       "3            0.2098             0.8663           0.6869                0.2575   \n",
       "4            0.1374             0.2050           0.4000                0.1625   \n",
       "\n",
       "   worst symmetry  worst fractal dimension  target  \n",
       "0          0.4601                  0.11890       0  \n",
       "1          0.2750                  0.08902       0  \n",
       "2          0.3613                  0.08758       0  \n",
       "3          0.6638                  0.17300       0  \n",
       "4          0.2364                  0.07678       0  \n",
       "\n",
       "[5 rows x 31 columns]"
      ]
     },
     "execution_count": 3,
     "metadata": {},
     "output_type": "execute_result"
    }
   ],
   "source": [
    "# Xem qua một vài dòng dữ liệu\n",
    "df.head()"
   ]
  },
  {
   "cell_type": "code",
   "execution_count": 4,
   "id": "4ba0f1e3-0b0e-4df7-bd36-712f69459492",
   "metadata": {},
   "outputs": [
    {
     "name": "stdout",
     "output_type": "stream",
     "text": [
      "<class 'pandas.core.frame.DataFrame'>\n",
      "RangeIndex: 569 entries, 0 to 568\n",
      "Data columns (total 31 columns):\n",
      " #   Column                   Non-Null Count  Dtype  \n",
      "---  ------                   --------------  -----  \n",
      " 0   mean radius              569 non-null    float64\n",
      " 1   mean texture             569 non-null    float64\n",
      " 2   mean perimeter           569 non-null    float64\n",
      " 3   mean area                569 non-null    float64\n",
      " 4   mean smoothness          569 non-null    float64\n",
      " 5   mean compactness         569 non-null    float64\n",
      " 6   mean concavity           569 non-null    float64\n",
      " 7   mean concave points      569 non-null    float64\n",
      " 8   mean symmetry            569 non-null    float64\n",
      " 9   mean fractal dimension   569 non-null    float64\n",
      " 10  radius error             569 non-null    float64\n",
      " 11  texture error            569 non-null    float64\n",
      " 12  perimeter error          569 non-null    float64\n",
      " 13  area error               569 non-null    float64\n",
      " 14  smoothness error         569 non-null    float64\n",
      " 15  compactness error        569 non-null    float64\n",
      " 16  concavity error          569 non-null    float64\n",
      " 17  concave points error     569 non-null    float64\n",
      " 18  symmetry error           569 non-null    float64\n",
      " 19  fractal dimension error  569 non-null    float64\n",
      " 20  worst radius             569 non-null    float64\n",
      " 21  worst texture            569 non-null    float64\n",
      " 22  worst perimeter          569 non-null    float64\n",
      " 23  worst area               569 non-null    float64\n",
      " 24  worst smoothness         569 non-null    float64\n",
      " 25  worst compactness        569 non-null    float64\n",
      " 26  worst concavity          569 non-null    float64\n",
      " 27  worst concave points     569 non-null    float64\n",
      " 28  worst symmetry           569 non-null    float64\n",
      " 29  worst fractal dimension  569 non-null    float64\n",
      " 30  target                   569 non-null    int64  \n",
      "dtypes: float64(30), int64(1)\n",
      "memory usage: 137.9 KB\n"
     ]
    }
   ],
   "source": [
    "# Xem kiểu dữ liệu và số giá trị rỗng của mỗi cột\n",
    "df.info()"
   ]
  },
  {
   "cell_type": "markdown",
   "id": "a927e26b-cb38-4aec-b7eb-9a871babd8cd",
   "metadata": {},
   "source": [
    "### 2. Tiền xử lí dữ liệu"
   ]
  },
  {
   "cell_type": "markdown",
   "id": "5e4129f1-24e4-4a10-91b7-f0eac54c2ff3",
   "metadata": {},
   "source": [
    "Vì dữ liệu ở các cột là kiểu số và không có giá trị rỗng nên ta chỉ cần chuẩn hóa dữ liệu sử dụng lớp `MinMaxScaler` từ module `sklearn.preprocessing`."
   ]
  },
  {
   "cell_type": "code",
   "execution_count": 5,
   "id": "07759fe5-bcff-43f1-88d1-b073f9100b23",
   "metadata": {},
   "outputs": [],
   "source": [
    "from sklearn.preprocessing import MinMaxScaler\n",
    "\n",
    "scaler = MinMaxScaler()\n",
    "X = scaler.fit_transform(X)"
   ]
  },
  {
   "cell_type": "markdown",
   "id": "0333e4b5-3995-4837-9870-deae160b1782",
   "metadata": {},
   "source": [
    "Sau đó ta tiến hành chia tập dữ liệu thành 2 phần: tập train và tập test sử dụng hàm `train_test_split()` từ module `sklearn.model_selection` là xong phần chuẩn bị dữ liệu."
   ]
  },
  {
   "cell_type": "code",
   "execution_count": 6,
   "id": "ebfbd4d9-a88c-4447-8462-74e7fc78ace3",
   "metadata": {},
   "outputs": [],
   "source": [
    "from sklearn.model_selection import train_test_split\n",
    "\n",
    "X_train, X_test, y_train, y_test = train_test_split(X, y, test_size=0.2, random_state=42)"
   ]
  },
  {
   "cell_type": "markdown",
   "id": "755e71ef-681e-4747-ab62-cfc9f091e873",
   "metadata": {},
   "source": [
    "### 3. Xây dựng các mô hình boosting"
   ]
  },
  {
   "cell_type": "markdown",
   "id": "f2bb2558-445f-463f-8945-363960c077c2",
   "metadata": {},
   "source": [
    "Chúng ta sẽ sử dụng những mô hình boosting được dùng nhiều từ những cuộc thi về machine learning trên Kaggle vì chúng có độ chính xác cao trên những dữ liệu thuộc kiểu bảng (tabular data). Những mô hình đó không có sẵn trong thư viện `sklearn` mà từ những thư viện."
   ]
  },
  {
   "cell_type": "markdown",
   "id": "0143ab23-8bff-4712-8c15-5ae0b7d66d3f",
   "metadata": {},
   "source": [
    "**Bài tập**: Hãy import 3 mô hình `XGBClassifier`, `LGBMClassifier`, `CatBoostClassifier` có sẵn lần lượt từ các thư viện `xgboost`, `lightgbm`, `catboost` (cài đặt trước đó bằng cách `pip install xgboost lightgbm catboost`) và gán vào những biến đã được khởi tạo bên dưới sao cho phù hợp. Lưu ý: Khởi tạo mỗi mô hình với tham số ***random_state=42*** đối với 2 mô hình `XGBClassifier` và `LGBMClassifier`."
   ]
  },
  {
   "cell_type": "code",
   "execution_count": 7,
   "id": "40c8a4e0-b997-4bae-b20c-24353cb683ce",
   "metadata": {},
   "outputs": [],
   "source": [
    "xgboost_clf = None\n",
    "lgbm_clf = None\n",
    "catboost_clf = None\n",
    "\n",
    "### BEGIN SOLUTION\n",
    "from xgboost import XGBClassifier\n",
    "from lightgbm import LGBMClassifier\n",
    "from catboost import CatBoostClassifier\n",
    "\n",
    "xgboost_clf = XGBClassifier(random_state=42, use_label_encoder=False, eval_metric=\"logloss\", verbosity=0)\n",
    "lgbm_clf = LGBMClassifier(random_state=42, verbosity=-1)\n",
    "catboost_clf = CatBoostClassifier(random_state=42, verbose=0)\n",
    "### END SOLUTION"
   ]
  },
  {
   "cell_type": "code",
   "execution_count": 8,
   "id": "b192cc3e-7d89-4951-9c28-ef6bca319dee",
   "metadata": {},
   "outputs": [],
   "source": [
    "assert xgboost_clf is not None and lgbm_clf is not None and catboost_clf is not None"
   ]
  },
  {
   "cell_type": "markdown",
   "id": "aaa1187e-be5f-455a-b274-f0a9e930cbbb",
   "metadata": {},
   "source": [
    "Ta tiến hành huấn luyện các mô hình trên trên tập train"
   ]
  },
  {
   "cell_type": "code",
   "execution_count": 9,
   "id": "3f6d0cfd-578c-4dde-81fd-3d0aa5ecd5d0",
   "metadata": {},
   "outputs": [
    {
     "data": {
      "text/plain": [
       "<catboost.core.CatBoostClassifier at 0x149ba66c0>"
      ]
     },
     "execution_count": 9,
     "metadata": {},
     "output_type": "execute_result"
    }
   ],
   "source": [
    "xgboost_clf.fit(X_train, y_train)\n",
    "lgbm_clf.fit(X_train, y_train)\n",
    "catboost_clf.fit(X_train, y_train)"
   ]
  },
  {
   "cell_type": "markdown",
   "id": "db5f4cd8-2608-4950-a728-70427e08748b",
   "metadata": {},
   "source": [
    "Sau khi huấn luyện thành công, ta sẽ đánh giá lần lượt từng mô hình trên tập test với metric là accuracy."
   ]
  },
  {
   "cell_type": "markdown",
   "id": "30750733-8f6b-4356-8a1a-fd3470ea5eec",
   "metadata": {},
   "source": [
    "**Bài tập**: Hãy sử dụng hàm `accuracy_score` từ module `sklearn.metrics` để tính toán độ chính xác của từng mô hình trên tập test và gán nó vào các biến đã tạo bên dưới sao cho phù hợp."
   ]
  },
  {
   "cell_type": "code",
   "execution_count": 15,
   "id": "4b5d20b9-c292-40dc-a0f5-3f186bdf8d90",
   "metadata": {},
   "outputs": [
    {
     "name": "stderr",
     "output_type": "stream",
     "text": [
      "/Users/home/Documents/File Code/Python/CS116/.venv/lib/python3.12/site-packages/sklearn/utils/validation.py:2739: UserWarning: X does not have valid feature names, but LGBMClassifier was fitted with feature names\n",
      "  warnings.warn(\n"
     ]
    }
   ],
   "source": [
    "xgboost_clf_acc = None\n",
    "lgbm_clf_acc = None\n",
    "catboost_clf_acc = None\n",
    "\n",
    "### BEGIN SOLUTION\n",
    "from sklearn.metrics import accuracy_score\n",
    "import numpy as np\n",
    "\n",
    "xgboost_clf_acc = np.float64(accuracy_score(y_test, xgboost_clf.predict(X_test)))\n",
    "lgbm_clf_acc = np.float64(accuracy_score(y_test, lgbm_clf.predict(X_test)))\n",
    "catboost_clf_acc = np.float64(accuracy_score(y_test, catboost_clf.predict(X_test)))\n",
    "### END SOLUTION"
   ]
  },
  {
   "cell_type": "code",
   "execution_count": 16,
   "id": "0c83ccc4-367e-4a50-9485-bef350cd5b89",
   "metadata": {},
   "outputs": [],
   "source": [
    "assert str(type(xgboost_clf_acc)) == \"<class 'numpy.float64'>\"\n",
    "assert str(type(lgbm_clf_acc)) == \"<class 'numpy.float64'>\"\n",
    "assert str(type(catboost_clf_acc)) == \"<class 'numpy.float64'>\""
   ]
  },
  {
   "cell_type": "markdown",
   "id": "7305367a-2e5d-4e3e-a135-aa8036b50879",
   "metadata": {},
   "source": [
    "In độ chính xác của từng mô hình, ta thấy rằng độ chính xác của chúng là khá cao so với những mô hình phân loại mà ta sử dụng trước đó."
   ]
  },
  {
   "cell_type": "code",
   "execution_count": 17,
   "id": "1008649e-9680-434d-9cc0-394832ab1135",
   "metadata": {},
   "outputs": [
    {
     "name": "stdout",
     "output_type": "stream",
     "text": [
      "XGBClassifier Accuracy:      0.956140350877193\n",
      "LGBMClassifier Accuracy:     0.9649122807017544\n",
      "CatBoostClassifier Accuracy: 0.9736842105263158\n"
     ]
    }
   ],
   "source": [
    "print(\"XGBClassifier Accuracy:     \", xgboost_clf_acc)\n",
    "print(\"LGBMClassifier Accuracy:    \", lgbm_clf_acc)\n",
    "print(\"CatBoostClassifier Accuracy:\", catboost_clf_acc)"
   ]
  },
  {
   "cell_type": "markdown",
   "id": "85e41fef-e026-4126-8aba-a69ae5e93ec9",
   "metadata": {},
   "source": [
    "### 4. Ensemble Methods"
   ]
  },
  {
   "cell_type": "markdown",
   "id": "7e253b02-4515-4885-baa0-78baeeee889b",
   "metadata": {},
   "source": [
    "Trong Machine Learning, ***Ensemble Methods*** là một kỹ thuật mạnh mẽ được sử dụng để cải thiện hiệu suất của các mô hình dự đoán. Thay vì sử dụng một mô hình duy nhất để thực hiện dự đoán, Ensemble Methods kết hợp kết quả từ nhiều mô hình con để đưa ra dự đoán cuối cùng. Việc này có thể giúp giảm thiểu sai số và tăng tính ổn định của dự đoán.\n",
    "\n",
    "Các phương pháp Ensemble được sử dụng rộng rãi trong các cuộc thi trên Kaggle và các ứng dụng thực tế trong thế giới thực. Dưới đây, chúng ta sẽ tìm hiểu về hai kỹ thuật Ensemble phổ biến: ***Voting Classifier*** và ***Stacking Classifier***."
   ]
  },
  {
   "cell_type": "markdown",
   "id": "7ee72a6a-a26f-4e90-86c7-8c12fd127d0c",
   "metadata": {},
   "source": [
    "#### 4.1. Voting Classifier"
   ]
  },
  {
   "cell_type": "markdown",
   "id": "3db01e97-394a-4173-914e-006d021e7796",
   "metadata": {},
   "source": [
    "***Voting Classifier*** là một phương pháp Ensemble đơn giản nhưng hiệu quả. Nó làm việc bằng cách kết hợp kết quả dự đoán từ nhiều mô hình con khác nhau. Có hai loại chính của ***Voting Classifier***:\n",
    "\n",
    "* ***Hard Voting***: Kết quả cuối cùng là kết quả của sự bỏ phiếu đa số giữa các mô hình con. Nếu hơn một nửa các mô hình dự đoán một lớp cụ thể, lớp đó sẽ được chọn là kết quả.\n",
    "\n",
    "* ***Soft Voting***: Kết quả cuối cùng là kết quả của sự bỏ phiếu dựa trên xác suất dự đoán của các mô hình con. Nó thường làm tốt hơn so với hard voting và phù hợp khi các mô hình con có khả năng ước tính xác suất."
   ]
  },
  {
   "cell_type": "markdown",
   "id": "3b59a47f-12f4-4a7d-9471-65bee7d7a3ca",
   "metadata": {},
   "source": [
    "**Bài tập**: Hãy import lớp `VotingClassifier` từ module `sklearn.ensemble` và tạo một mô hình ensemble kết hợp từ 3 mô hình boosting phía trên và gán vào biến `voting_model` bên dưới. Lưu ý: Khởi tạo mô hình **voting** với tham số ***voting=\"soft\"***, sử dụng lại các mô hình boosting đã tạo."
   ]
  },
  {
   "cell_type": "code",
   "execution_count": 21,
   "id": "36f2d982-361d-48cc-9cd6-adc9405c3eee",
   "metadata": {},
   "outputs": [],
   "source": [
    "voting_model = None\n",
    "\n",
    "### BEGIN SOLUTION\n",
    "from sklearn.ensemble import VotingClassifier\n",
    "\n",
    "voting_model = VotingClassifier(estimators=[('xgb', xgboost_clf), ('lgbm', lgbm_clf), ('catboost', catboost_clf)], voting='soft', verbose=0)\n",
    "### END SOLUTION"
   ]
  },
  {
   "cell_type": "code",
   "execution_count": 22,
   "id": "ea4077df-e450-443f-9775-47438a284d52",
   "metadata": {},
   "outputs": [],
   "source": [
    "assert voting_model.__class__.__name__ == \"VotingClassifier\"\n",
    "assert len(voting_model.estimators) == 3"
   ]
  },
  {
   "cell_type": "markdown",
   "id": "cdef8051-0817-4197-83a7-6bbcd8d2486e",
   "metadata": {},
   "source": [
    "Ta tiến hành huấn luyện và đánh giá mô hình voting thôi nào"
   ]
  },
  {
   "cell_type": "code",
   "execution_count": 23,
   "id": "6adfbc13-5f8d-4320-918e-9a9dc9a2693b",
   "metadata": {},
   "outputs": [
    {
     "name": "stdout",
     "output_type": "stream",
     "text": [
      "Voting Model Accuracy: 0.9736842105263158\n"
     ]
    },
    {
     "name": "stderr",
     "output_type": "stream",
     "text": [
      "/Users/home/Documents/File Code/Python/CS116/.venv/lib/python3.12/site-packages/sklearn/utils/validation.py:2739: UserWarning: X does not have valid feature names, but LGBMClassifier was fitted with feature names\n",
      "  warnings.warn(\n"
     ]
    }
   ],
   "source": [
    "from sklearn.metrics import accuracy_score\n",
    "\n",
    "voting_model.fit(X_train, y_train)\n",
    "print(\"Voting Model Accuracy:\",\n",
    "      accuracy_score(y_test, voting_model.predict(X_test)))"
   ]
  },
  {
   "cell_type": "markdown",
   "id": "caba4af7-bd33-43eb-9b06-4bb404b9366b",
   "metadata": {},
   "source": [
    "#### 4.2. Stacking Classifier"
   ]
  },
  {
   "cell_type": "markdown",
   "id": "8a8941e1-bb15-4ab6-90e6-ab8aacde2556",
   "metadata": {},
   "source": [
    "***Stacking Classifier*** là một phương pháp Ensemble phức tạp hơn so với ***Voting Classifier***. Trong Stacking, các mô hình con được chia thành hai hoặc nhiều tầng (layers). Ở tầng đầu tiên (base layer), các mô hình con được huấn luyện trên dữ liệu huấn luyện và dự đoán trên dữ liệu kiểm tra. Sau đó, dự đoán từ các mô hình con ở tầng đầu tiên được sử dụng như đầu vào cho mô hình cấp cao hơn (meta-model) ở tầng thứ hai (meta layer) để dự đoán kết quả cuối cùng.\n",
    "\n",
    "Stacking thường cần nhiều tính toán hơn và sử dụng nhiều tài nguyên hơn so với Voting, nhưng nó có tiềm năng để tạo ra các ensemble mạnh hơn và cải thiện hiệu suất dự đoán.\n",
    "\n",
    "Cả hai kỹ thuật này đều có thể giúp cải thiện hiệu suất dự đoán của mô hình bằng cách kết hợp sức mạnh của nhiều mô hình con, tuy nhiên, bạn cần lựa chọn một trong số họ dựa trên bộ dữ liệu cụ thể và mục tiêu của bạn."
   ]
  },
  {
   "cell_type": "markdown",
   "id": "44009653-4bf4-4546-96b0-c99e8fbf1db4",
   "metadata": {},
   "source": [
    "**Bài tập**: Hãy import lớp `StackingClassifier` từ module `sklearn.ensemble` và tạo một mô hình ensemble kết hợp từ 3 mô hình boosting phía trên theo thứ tự: `XGBClassifier`, `LGBMClassifier`, `CatBoostClassifier` với mô hình cuối cùng để kếp hợp dự đoán (tham số final_estimator) là `XGBClassifier` và gán vào biến `stacking_model` bên dưới. Lưu ý: sử dụng lại các mô hình boosting đã tạo."
   ]
  },
  {
   "cell_type": "code",
   "execution_count": 27,
   "id": "986917c6-2914-4b1d-b48e-70e9ac130fd6",
   "metadata": {},
   "outputs": [],
   "source": [
    "stacking_model = None\n",
    "\n",
    "### BEGIN SOLUTION\n",
    "from sklearn.ensemble import StackingClassifier\n",
    "from sklearn.linear_model import LogisticRegression\n",
    "\n",
    "stacking_model = StackingClassifier(estimators=[('xgb', xgboost_clf), ('lgbm', lgbm_clf), ('catboost', catboost_clf)], final_estimator=XGBClassifier(), verbose=0)\n",
    "### END SOLUTION"
   ]
  },
  {
   "cell_type": "code",
   "execution_count": 28,
   "id": "5f7fdd1d-1fa8-41ca-baa1-cd6e5532fefc",
   "metadata": {},
   "outputs": [],
   "source": [
    "assert stacking_model.__class__.__name__ == \"StackingClassifier\"\n",
    "assert len(stacking_model.estimators) == 3"
   ]
  },
  {
   "cell_type": "markdown",
   "id": "4ca2cc4b-89c3-4cfc-ac35-eb9a976df529",
   "metadata": {},
   "source": [
    "Ta tiến hành huấn luyện và đánh giá mô hình stacking tương tự như trên."
   ]
  },
  {
   "cell_type": "code",
   "execution_count": 29,
   "id": "4ec61615-a69c-4de3-b74c-ce7f6ad7b8d8",
   "metadata": {},
   "outputs": [
    {
     "name": "stderr",
     "output_type": "stream",
     "text": [
      "/Users/home/Documents/File Code/Python/CS116/.venv/lib/python3.12/site-packages/sklearn/utils/validation.py:2739: UserWarning: X does not have valid feature names, but LGBMClassifier was fitted with feature names\n",
      "  warnings.warn(\n",
      "/Users/home/Documents/File Code/Python/CS116/.venv/lib/python3.12/site-packages/sklearn/utils/validation.py:2739: UserWarning: X does not have valid feature names, but LGBMClassifier was fitted with feature names\n",
      "  warnings.warn(\n",
      "/Users/home/Documents/File Code/Python/CS116/.venv/lib/python3.12/site-packages/sklearn/utils/validation.py:2739: UserWarning: X does not have valid feature names, but LGBMClassifier was fitted with feature names\n",
      "  warnings.warn(\n",
      "/Users/home/Documents/File Code/Python/CS116/.venv/lib/python3.12/site-packages/sklearn/utils/validation.py:2739: UserWarning: X does not have valid feature names, but LGBMClassifier was fitted with feature names\n",
      "  warnings.warn(\n",
      "/Users/home/Documents/File Code/Python/CS116/.venv/lib/python3.12/site-packages/sklearn/utils/validation.py:2739: UserWarning: X does not have valid feature names, but LGBMClassifier was fitted with feature names\n",
      "  warnings.warn(\n"
     ]
    },
    {
     "name": "stdout",
     "output_type": "stream",
     "text": [
      "Stacking Model Accuracy: 0.9649122807017544\n"
     ]
    },
    {
     "name": "stderr",
     "output_type": "stream",
     "text": [
      "/Users/home/Documents/File Code/Python/CS116/.venv/lib/python3.12/site-packages/sklearn/utils/validation.py:2739: UserWarning: X does not have valid feature names, but LGBMClassifier was fitted with feature names\n",
      "  warnings.warn(\n"
     ]
    }
   ],
   "source": [
    "stacking_model.fit(X_train, y_train)\n",
    "print(\"Stacking Model Accuracy:\",\n",
    "      accuracy_score(y_test, stacking_model.predict(X_test)))"
   ]
  },
  {
   "cell_type": "markdown",
   "id": "c178bd7e-d7bf-4c37-b1d1-4088863dcc94",
   "metadata": {},
   "source": [
    "### 5. Kết Luận\n",
    "\n",
    "Trong notebook này, chúng ta đã tìm hiểu về các phương pháp không nằm trong bộ sklearn như XGBoost, LightGBM và CatBoost, những mô hình thông dụng trong các cuộc thi trên Kaggle để đạt được độ chính xác cao. Chúng ta đã thực hiện các bước cơ bản từ tiền xử lý dữ liệu, huấn luyện các mô hình, và đánh giá hiệu suất trên tập kiểm tra.\n",
    "\n",
    "Một số điểm quan trọng cần lưu ý:\n",
    "- XGBoost, LightGBM và CatBoost là các mô hình mạnh mẽ có thể mang lại kết quả tốt trên nhiều loại dữ liệu khác nhau.\n",
    "- Lựa chọn mô hình thường dựa trên thử nghiệm và kiến thức về từng thuật toán. XGBoost thường là một lựa chọn tốt để bắt đầu, nhưng LightGBM và CatBoost có thể mang lại kết quả tốt hơn trong một số trường hợp.\n",
    "- Kỹ thuật Ensemble, như sử dụng `VotingClassifier`, có thể cải thiện độ chính xác của mô hình bằng cách kết hợp sức mạnh của các mô hình khác nhau.\n",
    "\n",
    "Hãy nhớ rằng để thành công trên Kaggle hoặc trong bất kỳ dự án Machine Learning nào, việc thử nghiệm và tinh chỉnh là quan trọng. Hãy luôn cân nhắc và tùy chỉnh phương pháp của mình để phù hợp với bài toán cụ thể và dữ liệu của bạn.\n",
    "\n",
    "Chúc các bạn thành công trong việc tham gia các cuộc thi trên Kaggle và trong việc áp dụng Machine Learning vào thực tế!\n"
   ]
  }
 ],
 "metadata": {
  "colab": {
   "provenance": []
  },
  "kernelspec": {
   "display_name": ".venv",
   "language": "python",
   "name": "python3"
  },
  "language_info": {
   "codemirror_mode": {
    "name": "ipython",
    "version": 3
   },
   "file_extension": ".py",
   "mimetype": "text/x-python",
   "name": "python",
   "nbconvert_exporter": "python",
   "pygments_lexer": "ipython3",
   "version": "3.12.10"
  }
 },
 "nbformat": 4,
 "nbformat_minor": 5
}
