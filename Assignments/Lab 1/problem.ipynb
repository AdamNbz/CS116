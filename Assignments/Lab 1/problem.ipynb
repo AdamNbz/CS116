{
 "cells": [
  {
   "cell_type": "markdown",
   "id": "37f1aad8-e5ad-4031-95a5-636612a60be6",
   "metadata": {},
   "source": [
    "### Bài tập 1: Sử dụng Python như một Máy tính cầm tay"
   ]
  },
  {
   "cell_type": "markdown",
   "id": "fa4a9ab4-2050-4d80-b86e-cf60e57703eb",
   "metadata": {},
   "source": [
    "Lucky Larry đã mua $75$ cổ phiếu của Google với giá $\\$235$ cho mỗi cổ phiếu. Hôm nay, giá của cổ phiếu Google là $\\$711$. Sử dụng chế độ tương tác (interactive mode) của Python như một máy tính cầm tay, hãy tính toán xem Larry sẽ lãi bao nhiêu nếu anh ấy bán tất cả cổ phiếu của mình."
   ]
  },
  {
   "cell_type": "code",
   "execution_count": 1,
   "id": "77920521-3ba0-4d30-b844-1406455015bc",
   "metadata": {},
   "outputs": [
    {
     "data": {
      "text/plain": [
       "35700"
      ]
     },
     "execution_count": 1,
     "metadata": {},
     "output_type": "execute_result"
    }
   ],
   "source": [
    "(711 - 235) * 75"
   ]
  },
  {
   "cell_type": "markdown",
   "id": "d36ebf51-b266-4aa3-be71-f6b0b13278d6",
   "metadata": {},
   "source": [
    "Sử dụng biến gạch dưới (_) để sử dụng kết quả của phép tính lần gần nhất. Larry sẽ lãi bao nhiêu sau khi người môi giới xấu xa của anh ta lấy đi $20\\%$?"
   ]
  },
  {
   "cell_type": "code",
   "execution_count": 2,
   "id": "58bca7c1-4594-42f5-9645-073ba136c629",
   "metadata": {},
   "outputs": [
    {
     "data": {
      "text/plain": [
       "28560.0"
      ]
     },
     "execution_count": 2,
     "metadata": {},
     "output_type": "execute_result"
    }
   ],
   "source": [
    "### BEGIN SOLUTION\n",
    "_ * 0.8\n",
    "### END SOLUTION"
   ]
  },
  {
   "cell_type": "markdown",
   "id": "d86c6951-5cda-4de4-a49c-38990dd61825",
   "metadata": {},
   "source": [
    "### Bài tập 2: Nhận trợ giúp"
   ]
  },
  {
   "cell_type": "markdown",
   "id": "31e8dc7d-99ab-4e98-acfd-903918696776",
   "metadata": {},
   "source": [
    "Sử dụng lệnh `help()` để nhận trợ giúp về hàm `abs()`, và sau này bạn có thể truy cập http://docs.python.org để tìm thêm tài liệu về hàm `abs()` hoặc các hàm khác."
   ]
  },
  {
   "cell_type": "code",
   "execution_count": 3,
   "id": "955b1567-4d06-434d-8b2d-f0e1155ff971",
   "metadata": {},
   "outputs": [
    {
     "name": "stdout",
     "output_type": "stream",
     "text": [
      "Help on built-in function abs in module builtins:\n",
      "\n",
      "abs(x, /)\n",
      "    Return the absolute value of the argument.\n",
      "\n"
     ]
    }
   ],
   "source": [
    "### BEGIN SOLUTION\n",
    "help(abs)\n",
    "### END SOLUTION"
   ]
  },
  {
   "cell_type": "markdown",
   "id": "3309de97-fd1b-4545-9328-2ecf172fde37",
   "metadata": {},
   "source": [
    "### Bài tập 3: Quả bóng nảy"
   ]
  },
  {
   "cell_type": "markdown",
   "id": "3c190fd1-231b-4eae-9623-35ab43342a9e",
   "metadata": {},
   "source": [
    "Viết một hàm có tên `display_bounce_heights` nhận đầu vào là độ cao ban đầu $h$ (mét) ($100 \\leq h \\leq 1000000$) của quả bóng cao su, sau đó in ra bảng hiển thị độ cao của quả bóng sau $10$ lần nảy đầu tiên. Mỗi lần quả bóng chạm đất, nó sẽ nảy lên độ cao bằng $3/5$ độ cao mà nó rơi. Làm tròn kết quả đến $4$ chữ số thập phân."
   ]
  },
  {
   "cell_type": "code",
   "execution_count": 12,
   "id": "33cd3449-883f-4afd-9aa2-a4417cdc73af",
   "metadata": {},
   "outputs": [],
   "source": [
    "### BEGIN SOLUTION\n",
    "def display_bounce_heights(h):\n",
    "    print(\"Lần | Độ cao\")\n",
    "    print(\"------------------\")\n",
    "    \n",
    "    h *= 3/5\n",
    "    for i in range(1, 11):\n",
    "        print(f\"{i:>2} | {h:10.4f} m\")\n",
    "        h *= 3/5\n",
    "### END SOLUTION"
   ]
  },
  {
   "cell_type": "code",
   "execution_count": 13,
   "id": "62de5839-7ab9-49ba-b0b7-a5964dfa25cf",
   "metadata": {},
   "outputs": [
    {
     "name": "stdout",
     "output_type": "stream",
     "text": [
      "Lần | Độ cao\n",
      "------------------\n",
      " 1 |  1200.0000 m\n",
      " 2 |   720.0000 m\n",
      " 3 |   432.0000 m\n",
      " 4 |   259.2000 m\n",
      " 5 |   155.5200 m\n",
      " 6 |    93.3120 m\n",
      " 7 |    55.9872 m\n",
      " 8 |    33.5923 m\n",
      " 9 |    20.1554 m\n",
      "10 |    12.0932 m\n"
     ]
    }
   ],
   "source": [
    "display_bounce_heights(2000)"
   ]
  },
  {
   "cell_type": "markdown",
   "id": "0d23f069-f918-4a2d-832b-11c99d50b7d1",
   "metadata": {},
   "source": [
    "### Bài tập 4: Biểu thức chính quy"
   ]
  },
  {
   "cell_type": "markdown",
   "id": "bc68196f-9f25-41af-a04e-7930a9dd9c5d",
   "metadata": {},
   "source": [
    "Viết một hàm có tên `find_and_replace_dates` để tìm tất cả các ngày có định dạng `mm/dd/yyyy` trong một chuỗi văn bản đầu vào và thay thế chúng bằng định dạng `yyyy-mm-dd`. Hàm sẽ trả về một `tuple` bao gồm danh sách (`list`) các ngày tìm được và chuỗi (`str`) văn bản mới sau khi thực hiện thay thế."
   ]
  },
  {
   "cell_type": "code",
   "execution_count": 14,
   "id": "dac1c8c1-ecd1-4cd0-b609-3cd844e9d330",
   "metadata": {},
   "outputs": [],
   "source": [
    "### BEGIN SOLUTION\n",
    "import re\n",
    "\n",
    "def find_and_replace_dates(s):\n",
    "    pattern = re.compile(r\"(\\d{1,2})/(\\d{1,2})/(\\d{4})\")\n",
    "    matches = pattern.findall(s)\n",
    "    list_dates = [f\"{m[0]}/{m[1]}/{m[2]}\" for m in matches]\n",
    "    replaced_str = pattern.sub(lambda x: f\"{x.group(3)}-{x.group(1)}-{x.group(2)}\", s)\n",
    "    return (list_dates, replaced_str)\n",
    "### END SOLUTION"
   ]
  },
  {
   "cell_type": "code",
   "execution_count": 15,
   "id": "0364a730-9521-4324-86ed-3fb9e383d93e",
   "metadata": {},
   "outputs": [
    {
     "data": {
      "text/plain": [
       "(['3/4/2024', '3/5/2024'], 'Hôm nay là ngày 2024-3-4. Ngày mai là 2024-3-5.')"
      ]
     },
     "execution_count": 15,
     "metadata": {},
     "output_type": "execute_result"
    }
   ],
   "source": [
    "find_and_replace_dates(\"Hôm nay là ngày 3/4/2024. Ngày mai là 3/5/2024.\")"
   ]
  },
  {
   "cell_type": "markdown",
   "id": "aa7fe236-d399-4cd2-8fe5-60524da072d0",
   "metadata": {},
   "source": [
    "### Bài tập 5: Các phương thức của chuỗi"
   ]
  },
  {
   "cell_type": "markdown",
   "id": "3e8010a8-8240-41a8-a9b4-aed279d6137a",
   "metadata": {},
   "source": [
    "Hãy lập danh sách tất cả các phương thức có sẵn của đối tượng `s` trong môi trường Python mà đoạn mã này sẽ được chạy. Đối tượng `s` là một chuỗi (`str`), và yêu cầu của bài tập là xác định và ghi lại tất cả các phương thức mà Python cung cấp cho kiểu dữ liệu này vào danh sách `string_methods`. Ví dụ: `string_methods = ['lower', '__add__']`. Lưu ý, trong bài tập này bạn vui lòng liệt kê tất cả phương thức"
   ]
  },
  {
   "cell_type": "code",
   "execution_count": 8,
   "id": "1401a6e8-cff7-4940-abfb-4727d4ae479c",
   "metadata": {},
   "outputs": [
    {
     "name": "stdout",
     "output_type": "stream",
     "text": [
      "['__add__', '__class__', '__contains__', '__delattr__', '__dir__', '__eq__', '__format__', '__ge__', '__getattribute__', '__getitem__', '__getnewargs__', '__getstate__', '__gt__', '__hash__', '__init__', '__init_subclass__', '__iter__', '__le__', '__len__', '__lt__', '__mod__', '__mul__', '__ne__', '__new__', '__reduce__', '__reduce_ex__', '__repr__', '__rmod__', '__rmul__', '__setattr__', '__sizeof__', '__str__', '__subclasshook__', 'capitalize', 'casefold', 'center', 'count', 'encode', 'endswith', 'expandtabs', 'find', 'format', 'format_map', 'index', 'isalnum', 'isalpha', 'isascii', 'isdecimal', 'isdigit', 'isidentifier', 'islower', 'isnumeric', 'isprintable', 'isspace', 'istitle', 'isupper', 'join', 'ljust', 'lower', 'lstrip', 'maketrans', 'partition', 'removeprefix', 'removesuffix', 'replace', 'rfind', 'rindex', 'rjust', 'rpartition', 'rsplit', 'rstrip', 'split', 'splitlines', 'startswith', 'strip', 'swapcase', 'title', 'translate', 'upper', 'zfill']\n"
     ]
    }
   ],
   "source": [
    "s = \"Hello, World!\"\n",
    "### BEGIN SOLUTION\n",
    "list_attributes = dir(s)\n",
    "\n",
    "string_methods = [name for name in list_attributes if callable(getattr(s, name))]\n",
    "\n",
    "print(string_methods)\n",
    "### END SOLUTION"
   ]
  },
  {
   "cell_type": "markdown",
   "id": "53eba50c-afbe-4dae-9a5d-b828c491967f",
   "metadata": {},
   "source": [
    "### Bài tập 6: Xử lý chuỗi"
   ]
  },
  {
   "cell_type": "markdown",
   "id": "7e0371bb-3e6d-4db9-a582-16fa0a4e08f2",
   "metadata": {},
   "source": [
    "Viết một hàm với tên `sort_and_join_stocks`. Hàm này sẽ nhận vào một chuỗi (`str`) là danh sách các mã chứng khoán, trong đó mỗi mã chứng khoán được phân tách bởi dấu phẩy. Hàm sẽ sắp xếp các mã chứng khoán theo thứ tự tăng dần và sau đó nối chúng lại thành một chuỗi mới, với các mã vẫn được phân tách bởi dấu phẩy. Hàm sẽ trả về một chuỗi (`str`)."
   ]
  },
  {
   "cell_type": "code",
   "execution_count": 26,
   "id": "5a22a294-f3a4-4344-a4fd-20b331740323",
   "metadata": {},
   "outputs": [],
   "source": [
    "### BEGIN SOLUTION\n",
    "def sort_and_join_stocks(s):\n",
    "    stocks = s.split(\",\")\n",
    "    stocks = [stocks.strip() for stocks in stocks if stocks.strip()]\n",
    "    stocks.sort()\n",
    "    return \",\".join(stocks)\n",
    "### END SOLUTION"
   ]
  },
  {
   "cell_type": "code",
   "execution_count": 27,
   "id": "7a9aa2e3-9e9d-46c1-aa52-93b3b3183d19",
   "metadata": {},
   "outputs": [
    {
     "data": {
      "text/plain": [
       "'AAPL,AMZN,CSCO,FB,HPQ,NFLX,NVDA'"
      ]
     },
     "execution_count": 27,
     "metadata": {},
     "output_type": "execute_result"
    }
   ],
   "source": [
    "sort_and_join_stocks('NVDA,AMZN,AAPL,CSCO,HPQ,NFLX,FB')"
   ]
  },
  {
   "cell_type": "markdown",
   "id": "0c66c7b7-9f8e-4242-903c-aa8926472c5b",
   "metadata": {},
   "source": [
    "### Bài tập 7: Sử dụng thư viện `os`"
   ]
  },
  {
   "cell_type": "markdown",
   "id": "5f6e4eed-db08-4474-aa58-05b46fb79bde",
   "metadata": {},
   "source": [
    "Vui lòng sử dụng thư viện `os` để xác định đường dẫn đến thư mục chứa tập tin Jupyter Notebook hoặc tập tin Python đang được thực thi. Sau đó, lưu chuỗi đường dẫn thu được vào biến `current_working_directory`. Phương pháp này cần phải đảm bảo tính chính xác khi được áp dụng trên một máy tính khác, không chỉ riêng máy tính của bạn."
   ]
  },
  {
   "cell_type": "code",
   "execution_count": 28,
   "id": "038ac52f-6b4e-4dcf-8ba5-600523f1eefb",
   "metadata": {},
   "outputs": [
    {
     "name": "stdout",
     "output_type": "stream",
     "text": [
      "/Users/home/Documents/Obsidian Vault/University Miscellaneous/Học kỳ 4/Lập trình Python cho Máy học/Bài tập/CS116.P21 - Lab 1 (Problem)\n"
     ]
    }
   ],
   "source": [
    "import os\n",
    "### BEGIN SOLUTION\n",
    "try:\n",
    "    current_working_directory = os.path.dirname(os.path.abspath(__file__))\n",
    "except NameError:\n",
    "    current_working_directory = os.getcwd()\n",
    "\n",
    "print(current_working_directory)\n",
    "### END SOLUTION"
   ]
  },
  {
   "cell_type": "markdown",
   "id": "1057fa69-421f-4888-b54d-c51e54732781",
   "metadata": {},
   "source": [
    "### Bài tập 8: Làm việc với tập tin"
   ]
  },
  {
   "cell_type": "markdown",
   "id": "fcbcb4b9-9735-420c-924e-fcfa217f1061",
   "metadata": {},
   "source": [
    "Các cột trong tệp `./data/portfolio.csv` tương ứng với `tên cổ phiếu`, `số lượng cổ phiếu` và `giá mua của một lô cổ phiếu đơn lẻ`. Đọc tất cả các dòng và tính toán xem việc mua tất cả các cổ phiếu trong danh mục đầu tư này tốn bao nhiêu tiền và lưu kết quả vào biến `total_cost`. Gợi ý: để chuyển đổi một chuỗi thành một số nguyên, sử dụng `int(s)`. Để chuyển đổi một chuỗi thành một số thực, sử dụng `float(s)`. Nếu bạn sử dụng thư viện `pandas` trong bài tập này, bạn sẽ không được tính điểm."
   ]
  },
  {
   "cell_type": "code",
   "execution_count": null,
   "id": "70d78abb-7d4d-4b3d-b303-ffa39ea579be",
   "metadata": {},
   "outputs": [
    {
     "data": {
      "text/plain": [
       "45463.0"
      ]
     },
     "execution_count": 41,
     "metadata": {},
     "output_type": "execute_result"
    }
   ],
   "source": [
    "total_cost = None\n",
    "### BEGIN SOLUTION\n",
    "total_cost = 0.0\n",
    "\n",
    "with open('./data/portfolio.csv', 'r', encoding='utf-8') as f:\n",
    "    header = next(f)\n",
    "    for line in f:\n",
    "        line = line.strip()\n",
    "        if not line:\n",
    "            continue\n",
    "        \n",
    "        parts = line.split(',')\n",
    "        quantity, price = int(parts[1]), float(parts[2])\n",
    "        \n",
    "        total_cost += quantity * price\n",
    "\n",
    "total_cost\n",
    "### END SOLUTION"
   ]
  }
 ],
 "metadata": {
  "colab": {
   "provenance": []
  },
  "kernelspec": {
   "display_name": ".venv",
   "language": "python",
   "name": "python3"
  },
  "language_info": {
   "codemirror_mode": {
    "name": "ipython",
    "version": 3
   },
   "file_extension": ".py",
   "mimetype": "text/x-python",
   "name": "python",
   "nbconvert_exporter": "python",
   "pygments_lexer": "ipython3",
   "version": "3.12.9"
  }
 },
 "nbformat": 4,
 "nbformat_minor": 5
}
